{
 "cells": [
  {
   "cell_type": "markdown",
   "metadata": {},
   "source": [
    "# Logistic regression\n",
    "\n",
    "This is an implementation of logistic regression. batch gradient descent is used to fit the model paramaters"
   ]
  },
  {
   "cell_type": "markdown",
   "metadata": {},
   "source": [
    "I build a model to address the famous kaggle titanic problem, a binary classification problem. Individuals must be predicted as having survived or not survived the titanic disaster."
   ]
  },
  {
   "cell_type": "markdown",
   "metadata": {},
   "source": [
    "### import modules"
   ]
  },
  {
   "cell_type": "code",
   "execution_count": 16,
   "metadata": {},
   "outputs": [],
   "source": [
    "import pandas as pd\n",
    "import numpy as np\n",
    "from tqdm import tqdm\n",
    "from sklearn.metrics import f1_score, accuracy_score\n",
    "\n",
    "%matplotlib inline\n",
    "pd.set_option('max.rows', None)"
   ]
  },
  {
   "cell_type": "markdown",
   "metadata": {},
   "source": [
    "### read data"
   ]
  },
  {
   "cell_type": "code",
   "execution_count": 2,
   "metadata": {},
   "outputs": [],
   "source": [
    "data = pd.read_csv('train.csv')"
   ]
  },
  {
   "cell_type": "code",
   "execution_count": 3,
   "metadata": {},
   "outputs": [
    {
     "data": {
      "text/html": [
       "<div>\n",
       "<style scoped>\n",
       "    .dataframe tbody tr th:only-of-type {\n",
       "        vertical-align: middle;\n",
       "    }\n",
       "\n",
       "    .dataframe tbody tr th {\n",
       "        vertical-align: top;\n",
       "    }\n",
       "\n",
       "    .dataframe thead th {\n",
       "        text-align: right;\n",
       "    }\n",
       "</style>\n",
       "<table border=\"1\" class=\"dataframe\">\n",
       "  <thead>\n",
       "    <tr style=\"text-align: right;\">\n",
       "      <th></th>\n",
       "      <th>PassengerId</th>\n",
       "      <th>Survived</th>\n",
       "      <th>Pclass</th>\n",
       "      <th>Name</th>\n",
       "      <th>Sex</th>\n",
       "      <th>Age</th>\n",
       "      <th>SibSp</th>\n",
       "      <th>Parch</th>\n",
       "      <th>Ticket</th>\n",
       "      <th>Fare</th>\n",
       "      <th>Cabin</th>\n",
       "      <th>Embarked</th>\n",
       "    </tr>\n",
       "  </thead>\n",
       "  <tbody>\n",
       "    <tr>\n",
       "      <th>0</th>\n",
       "      <td>1</td>\n",
       "      <td>0</td>\n",
       "      <td>3</td>\n",
       "      <td>Braund, Mr. Owen Harris</td>\n",
       "      <td>male</td>\n",
       "      <td>22.0</td>\n",
       "      <td>1</td>\n",
       "      <td>0</td>\n",
       "      <td>A/5 21171</td>\n",
       "      <td>7.2500</td>\n",
       "      <td>NaN</td>\n",
       "      <td>S</td>\n",
       "    </tr>\n",
       "    <tr>\n",
       "      <th>1</th>\n",
       "      <td>2</td>\n",
       "      <td>1</td>\n",
       "      <td>1</td>\n",
       "      <td>Cumings, Mrs. John Bradley (Florence Briggs Th...</td>\n",
       "      <td>female</td>\n",
       "      <td>38.0</td>\n",
       "      <td>1</td>\n",
       "      <td>0</td>\n",
       "      <td>PC 17599</td>\n",
       "      <td>71.2833</td>\n",
       "      <td>C85</td>\n",
       "      <td>C</td>\n",
       "    </tr>\n",
       "    <tr>\n",
       "      <th>2</th>\n",
       "      <td>3</td>\n",
       "      <td>1</td>\n",
       "      <td>3</td>\n",
       "      <td>Heikkinen, Miss. Laina</td>\n",
       "      <td>female</td>\n",
       "      <td>26.0</td>\n",
       "      <td>0</td>\n",
       "      <td>0</td>\n",
       "      <td>STON/O2. 3101282</td>\n",
       "      <td>7.9250</td>\n",
       "      <td>NaN</td>\n",
       "      <td>S</td>\n",
       "    </tr>\n",
       "    <tr>\n",
       "      <th>3</th>\n",
       "      <td>4</td>\n",
       "      <td>1</td>\n",
       "      <td>1</td>\n",
       "      <td>Futrelle, Mrs. Jacques Heath (Lily May Peel)</td>\n",
       "      <td>female</td>\n",
       "      <td>35.0</td>\n",
       "      <td>1</td>\n",
       "      <td>0</td>\n",
       "      <td>113803</td>\n",
       "      <td>53.1000</td>\n",
       "      <td>C123</td>\n",
       "      <td>S</td>\n",
       "    </tr>\n",
       "    <tr>\n",
       "      <th>4</th>\n",
       "      <td>5</td>\n",
       "      <td>0</td>\n",
       "      <td>3</td>\n",
       "      <td>Allen, Mr. William Henry</td>\n",
       "      <td>male</td>\n",
       "      <td>35.0</td>\n",
       "      <td>0</td>\n",
       "      <td>0</td>\n",
       "      <td>373450</td>\n",
       "      <td>8.0500</td>\n",
       "      <td>NaN</td>\n",
       "      <td>S</td>\n",
       "    </tr>\n",
       "  </tbody>\n",
       "</table>\n",
       "</div>"
      ],
      "text/plain": [
       "   PassengerId  Survived  Pclass  \\\n",
       "0            1         0       3   \n",
       "1            2         1       1   \n",
       "2            3         1       3   \n",
       "3            4         1       1   \n",
       "4            5         0       3   \n",
       "\n",
       "                                                Name     Sex   Age  SibSp  \\\n",
       "0                            Braund, Mr. Owen Harris    male  22.0      1   \n",
       "1  Cumings, Mrs. John Bradley (Florence Briggs Th...  female  38.0      1   \n",
       "2                             Heikkinen, Miss. Laina  female  26.0      0   \n",
       "3       Futrelle, Mrs. Jacques Heath (Lily May Peel)  female  35.0      1   \n",
       "4                           Allen, Mr. William Henry    male  35.0      0   \n",
       "\n",
       "   Parch            Ticket     Fare Cabin Embarked  \n",
       "0      0         A/5 21171   7.2500   NaN        S  \n",
       "1      0          PC 17599  71.2833   C85        C  \n",
       "2      0  STON/O2. 3101282   7.9250   NaN        S  \n",
       "3      0            113803  53.1000  C123        S  \n",
       "4      0            373450   8.0500   NaN        S  "
      ]
     },
     "execution_count": 3,
     "metadata": {},
     "output_type": "execute_result"
    }
   ],
   "source": [
    "data.head()"
   ]
  },
  {
   "cell_type": "code",
   "execution_count": 4,
   "metadata": {},
   "outputs": [],
   "source": [
    "feats = data[['Pclass', 'Age', 'SibSp', 'Parch', 'Fare']]"
   ]
  },
  {
   "cell_type": "markdown",
   "metadata": {},
   "source": [
    "### impute Age NA values with mean  "
   ]
  },
  {
   "cell_type": "code",
   "execution_count": 5,
   "metadata": {},
   "outputs": [
    {
     "name": "stderr",
     "output_type": "stream",
     "text": [
      "/Users/robbie.morse/anaconda3/lib/python3.7/site-packages/pandas/core/generic.py:4405: SettingWithCopyWarning: \n",
      "A value is trying to be set on a copy of a slice from a DataFrame.\n",
      "Try using .loc[row_indexer,col_indexer] = value instead\n",
      "\n",
      "See the caveats in the documentation: http://pandas.pydata.org/pandas-docs/stable/indexing.html#indexing-view-versus-copy\n",
      "  self[name] = value\n"
     ]
    }
   ],
   "source": [
    "feats.Age = feats.Age.fillna(data.Age.mean())"
   ]
  },
  {
   "cell_type": "code",
   "execution_count": 6,
   "metadata": {},
   "outputs": [
    {
     "data": {
      "text/html": [
       "<div>\n",
       "<style scoped>\n",
       "    .dataframe tbody tr th:only-of-type {\n",
       "        vertical-align: middle;\n",
       "    }\n",
       "\n",
       "    .dataframe tbody tr th {\n",
       "        vertical-align: top;\n",
       "    }\n",
       "\n",
       "    .dataframe thead th {\n",
       "        text-align: right;\n",
       "    }\n",
       "</style>\n",
       "<table border=\"1\" class=\"dataframe\">\n",
       "  <thead>\n",
       "    <tr style=\"text-align: right;\">\n",
       "      <th></th>\n",
       "      <th>Pclass</th>\n",
       "      <th>Age</th>\n",
       "      <th>SibSp</th>\n",
       "      <th>Parch</th>\n",
       "      <th>Fare</th>\n",
       "    </tr>\n",
       "  </thead>\n",
       "  <tbody>\n",
       "    <tr>\n",
       "      <th>0</th>\n",
       "      <td>3</td>\n",
       "      <td>22.0</td>\n",
       "      <td>1</td>\n",
       "      <td>0</td>\n",
       "      <td>7.2500</td>\n",
       "    </tr>\n",
       "    <tr>\n",
       "      <th>1</th>\n",
       "      <td>1</td>\n",
       "      <td>38.0</td>\n",
       "      <td>1</td>\n",
       "      <td>0</td>\n",
       "      <td>71.2833</td>\n",
       "    </tr>\n",
       "    <tr>\n",
       "      <th>2</th>\n",
       "      <td>3</td>\n",
       "      <td>26.0</td>\n",
       "      <td>0</td>\n",
       "      <td>0</td>\n",
       "      <td>7.9250</td>\n",
       "    </tr>\n",
       "    <tr>\n",
       "      <th>3</th>\n",
       "      <td>1</td>\n",
       "      <td>35.0</td>\n",
       "      <td>1</td>\n",
       "      <td>0</td>\n",
       "      <td>53.1000</td>\n",
       "    </tr>\n",
       "    <tr>\n",
       "      <th>4</th>\n",
       "      <td>3</td>\n",
       "      <td>35.0</td>\n",
       "      <td>0</td>\n",
       "      <td>0</td>\n",
       "      <td>8.0500</td>\n",
       "    </tr>\n",
       "  </tbody>\n",
       "</table>\n",
       "</div>"
      ],
      "text/plain": [
       "   Pclass   Age  SibSp  Parch     Fare\n",
       "0       3  22.0      1      0   7.2500\n",
       "1       1  38.0      1      0  71.2833\n",
       "2       3  26.0      0      0   7.9250\n",
       "3       1  35.0      1      0  53.1000\n",
       "4       3  35.0      0      0   8.0500"
      ]
     },
     "execution_count": 6,
     "metadata": {},
     "output_type": "execute_result"
    }
   ],
   "source": [
    "feats.head()"
   ]
  },
  {
   "cell_type": "markdown",
   "metadata": {},
   "source": [
    "the features x are a n diensional vector:\n",
    "$$x \\in \\mathbb{R}^{n}$$\n",
    "    \n",
    "the weights w are a n dimensional vector\n",
    "$$w \\in \\mathbb{R}^{n}$$\n",
    "z is a linear combination of the weihts an feature values such that:\n",
    "\n",
    "$$z \\in w^{T}x$$\n",
    "    \n",
    "a s the logistic function where:\n",
    "\n",
    "$$y = a(z)$$\n",
    "\n",
    "$$a = \\frac{1}{1+e^{-z}}$$\n",
    "    \n"
   ]
  },
  {
   "cell_type": "code",
   "execution_count": 7,
   "metadata": {},
   "outputs": [],
   "source": [
    "def sigmoid(feature_vector, weights):\n",
    "    \n",
    "    '''\n",
    "    takes in vector of feature values and vector of weights and computes output from logistic function\n",
    "    \n",
    "    '''\n",
    "    \n",
    "    # calculate 'z'\n",
    "    linear_combination = np.dot(feature_vector, weights)\n",
    "    \n",
    "    # input 'z' into logistic function\n",
    "    function_output = 1 / (1+np.exp(-linear_combination))\n",
    "    \n",
    "    return(function_output)\n",
    "    "
   ]
  },
  {
   "cell_type": "markdown",
   "metadata": {},
   "source": [
    "### fitting the logistic function with batch gradient descent\n",
    "\n",
    "loss function for logistic function is $$ L(w, y) = (-[ylog(y)+(1-y)log(1-y)]$$\n",
    "\n",
    "\n",
    "cost function for logistic function is $$ J(w) = \\frac{1}{m}\\sum_{i=1}^{m} L(w, y)$$\n",
    "\n",
    "\n",
    "In order to minimise the cost function batch gradient descent algorithm is used:\n",
    "\n",
    "$$repeat\\, until\\, convergence$$\n",
    "\n",
    "\n",
    "$$\\!\\!\\!\\!\\!\\!\\!\\!\\!\\!\\!\\!\\!\\!\\!\\!\\!\\!\\!\\!\\!\\!\\!\\!\\!\\!\\!\\!\\!\\!\\!\\!\\!\\!\\!\\!\\{$$\n",
    "$$w := w - \\alpha\\frac{\\partial{J}}{\\partial{w_j}}$$\n",
    "  $$\\,\\,\\,\\,\\,\\,\\,\\,\\,\\,\\,\\,\\,\\,\\,\\,\\,\\,\\,\\,\\,\\,\\,\\,\\,\\}$$\n",
    "  \n",
    "  \n",
    "According to the chain rule:\n",
    "\n",
    "\n",
    "$$\\frac{\\partial{L}}{\\partial{w_j}} = \\frac{\\partial{z}}{\\partial{w_j}}*\\frac{\\partial{a}}{\\partial{z}}*\\frac{\\partial{L}}{\\partial{a}}$$\n",
    "\n",
    "\n",
    "which means one can calculate $\\frac{\\partial{L}}{\\partial{w_j}}$ in the following way\n",
    "\n",
    "\n",
    "$$\\frac{\\partial{L}}{\\partial{w_j}} = (a-y)*X_j$$\n",
    "\n",
    "In the below block of code  $\\frac{\\partial{L}}{\\partial{w_j}}$ is represented by the vector 'dw' and $w$ is represented by the vector 'old_params'.\n"
   ]
  },
  {
   "cell_type": "code",
   "execution_count": 8,
   "metadata": {},
   "outputs": [],
   "source": [
    "def logisticRegression(features, y, alpha = 0.05, totalIterations=100):\n",
    "\n",
    "    '''\n",
    "    fits logistic regression model to data with batch gradient descent\n",
    "    \n",
    "    features: pandas dataframe containing features\n",
    "    y: pandas series containing labels\n",
    "    alpha: learning rate\n",
    "    totalIterations: number of iterations of batch gradient descent\n",
    "    \n",
    "    '''\n",
    "\n",
    "    X = np.array(features.T)\n",
    "    X = np.insert(arr = X, values = np.ones(X.shape[1]), obj = 0, axis = 0)\n",
    "    Y = np.array([y]).T\n",
    "################################################################## initialise lists to store loss and cost function values   \n",
    "    loss_function_values = []\n",
    "    cost_function_values =[]\n",
    "################################################################## initialise dictionaries \n",
    "\n",
    "    \n",
    "################################################################## set up arrays\n",
    "    row_number = features.shape[1]+1\n",
    "    old_params = np.zeros((row_number, 1))\n",
    "    new_params = np.zeros((row_number, 1))\n",
    "    dw = np.zeros((row_number, 1))\n",
    "    \n",
    "\n",
    "################################################################## set up arrays\n",
    "\n",
    "\n",
    "################################################################## loop through data \n",
    "    for counter in tqdm(range(totalIterations)):\n",
    "        \n",
    "        #reset dw to zeros\n",
    "        dw = np.zeros(features.shape[1]+1)\n",
    "        #update old paramaters with new paramaters defined from previous iteration\n",
    "        old_params = new_params.copy()\n",
    "        new_params = np.zeros(features.shape[1]+1)\n",
    "        #Create vector Z which holds linear combinations of features for all observations\n",
    "        Z = np.dot(old_params.T, X)\n",
    "        #print(f'dimensions of w is {old_params.shape}')\n",
    "        #print(f'dimensions of X is {X.shape}')\n",
    "        #print(f'dimensions of Z is {Z.shape}')\n",
    "        #create vector A which holds outputs from logistic function for all linear combinations of features in Z\n",
    "        A = 1 / (1+np.exp(-Z.T))\n",
    "        #print(f'dimensions of A is {A.shape}')\n",
    "        #create vector A containing all errors\n",
    "        #print(f'dimensions of Y is {Y.shape}')\n",
    "        E = A - Y\n",
    "\n",
    "################################################################## update dw\n",
    "        #record all average dw values for all features\n",
    "        #print(f'dimensions of E is {E.shape}')\n",
    "        ### got to here\n",
    "        dw = np.dot(E.T,X.T).T\n",
    "        #print(f'dimensions of dw is {dw.shape}')\n",
    "        average_dw = dw/X.shape[1]    \n",
    "        #print(f'average_dw is {average_dw}')\n",
    "################################################################## update dw\n",
    "\n",
    "\n",
    "################################################################## record loss function\n",
    "            \n",
    "        loss_function_outputs = -(Y*(np.log(A))+((1-Y)*np.log(1-A)))\n",
    "        #print(f'dimension of loss_function_outputs is{loss_function_outputs.shape}')\n",
    "        cost_function_output = sum(loss_function_outputs)/X.shape[1]\n",
    "        #print(f'cost_function_output value is {cost_function_output}')\n",
    "        cost_function_values.append(cost_function_output[0])\n",
    "################################################################## record loss function  \n",
    "\n",
    "\n",
    "################################################################## update feature weights\n",
    "        #print(f'dimensions of average_dw is {average_dw.shape}')\n",
    "        #print(f'dimensions of old_params is {old_params.shape} before')\n",
    "        new_params = old_params-alpha*(average_dw)\n",
    "        #print(f'dimensions of new_params is {new_params.shape} after')\n",
    "################################################################## update feature weights\n",
    "\n",
    "    return(new_params, cost_function_values)"
   ]
  },
  {
   "cell_type": "code",
   "execution_count": 9,
   "metadata": {},
   "outputs": [
    {
     "name": "stderr",
     "output_type": "stream",
     "text": [
      "100%|██████████| 100000/100000 [01:08<00:00, 1458.68it/s]\n"
     ]
    }
   ],
   "source": [
    "weights, cost_function_outputs = logisticRegression(features = feats, y = data['Survived'], alpha = 0.003, totalIterations=100000)"
   ]
  },
  {
   "cell_type": "markdown",
   "metadata": {},
   "source": [
    "### Fitted paramater values"
   ]
  },
  {
   "cell_type": "code",
   "execution_count": 10,
   "metadata": {},
   "outputs": [
    {
     "name": "stdout",
     "output_type": "stream",
     "text": [
      "model weights are [[ 2.17066313]\n",
      " [-0.80930429]\n",
      " [-0.0331907 ]\n",
      " [-0.2314992 ]\n",
      " [ 0.21131629]\n",
      " [ 0.00611757]]\n"
     ]
    }
   ],
   "source": [
    "print('model weights are {0}'.format(weights))"
   ]
  },
  {
   "cell_type": "markdown",
   "metadata": {},
   "source": [
    "### plot showing output of cost function for each iteration of gradient descent\n",
    "\n",
    "The cost function values decreases for each iteration of gradient descent"
   ]
  },
  {
   "cell_type": "code",
   "execution_count": 11,
   "metadata": {},
   "outputs": [
    {
     "data": {
      "text/plain": [
       "<matplotlib.axes._subplots.AxesSubplot at 0x1a1f14c470>"
      ]
     },
     "execution_count": 11,
     "metadata": {},
     "output_type": "execute_result"
    },
    {
     "data": {
      "image/png": "[encoded data removed]",
      "text/plain": [
       "<Figure size 432x288 with 1 Axes>"
      ]
     },
     "metadata": {
      "needs_background": "light"
     },
     "output_type": "display_data"
    }
   ],
   "source": [
    "a = pd.Series(cost_function_outputs) \n",
    "a.plot()"
   ]
  },
  {
   "cell_type": "markdown",
   "metadata": {},
   "source": [
    "### function to predict survival based on feature values"
   ]
  },
  {
   "cell_type": "markdown",
   "metadata": {},
   "source": [
    "i should vectorise the function that predicts"
   ]
  },
  {
   "cell_type": "code",
   "execution_count": 12,
   "metadata": {},
   "outputs": [],
   "source": [
    "def predict(data, weights, x_cols, sensitivity = 0.5):\n",
    "    \n",
    "    '''\n",
    "    predicts survival using fitted logistic regression model'''\n",
    "    \n",
    "    results = []\n",
    "    for row_number in range(data.shape[0]):\n",
    "\n",
    "        #loops through data and stores the feature vector and label\n",
    "        feature_vector = np.array(list(data.iloc[row_number][x_cols]))\n",
    "        feature_vector = np.insert(feature_vector, obj = [0], values = 1)\n",
    "  \n",
    "    \n",
    "        linear_combination = np.dot(feature_vector, weights)\n",
    "    \n",
    "        function_output = 1 / (1+np.exp(-linear_combination))\n",
    "        \n",
    "        if function_output >= sensitivity:\n",
    "            results.append(1)\n",
    "        else:\n",
    "            results.append(0)\n",
    "        \n",
    "    return(results)"
   ]
  },
  {
   "cell_type": "markdown",
   "metadata": {},
   "source": [
    "### predict using fitted paramaters"
   ]
  },
  {
   "cell_type": "code",
   "execution_count": 13,
   "metadata": {},
   "outputs": [],
   "source": [
    "results = predict(data, weights, x_cols = ['Pclass', 'Age', 'SibSp', 'Parch', 'Fare'], sensitivity=0.5)"
   ]
  },
  {
   "cell_type": "code",
   "execution_count": 17,
   "metadata": {},
   "outputs": [],
   "source": [
    "f1Score = f1_score(y_true=data['Survived'], y_pred=results)\n",
    "accuracyScore = accuracy_score(y_true=data['Survived'], y_pred=results)"
   ]
  },
  {
   "cell_type": "markdown",
   "metadata": {},
   "source": [
    "This is a rough measure of goodness of fit as I'm using predictions based off of the training data, this isn't a proper assesment of the model otherwise I would use 10-fold stratified cross-validation. This is simply to check that the model has learned. The model does better than a random sequence of ones and zeros so it was a success"
   ]
  },
  {
   "cell_type": "code",
   "execution_count": 21,
   "metadata": {},
   "outputs": [
    {
     "name": "stdout",
     "output_type": "stream",
     "text": [
      "f1_score is 0.5056603773584906\n",
      "accuracy_score is 0.7059483726150393\n"
     ]
    }
   ],
   "source": [
    "print(f'f1_score is {f1Score}')\n",
    "print(f'accuracy_score is {accuracyScore}')"
   ]
  },
  {
   "cell_type": "markdown",
   "metadata": {},
   "source": [
    "To increase the model goodness of fit more iterations of gradient descent should be used"
   ]
  },
  {
   "cell_type": "code",
   "execution_count": 22,
   "metadata": {},
   "outputs": [],
   "source": [
    "from numpy.random import randint"
   ]
  },
  {
   "cell_type": "code",
   "execution_count": 26,
   "metadata": {},
   "outputs": [],
   "source": [
    "randomLabel = pd.Series(randint(low = 0, high =2, size = data.shape[0]))"
   ]
  },
  {
   "cell_type": "code",
   "execution_count": 27,
   "metadata": {},
   "outputs": [],
   "source": [
    "f1ScoreRandom = f1_score(y_true=data['Survived'], y_pred=randomLabel)\n",
    "accuracyScoreRandom = accuracy_score(y_true=data['Survived'], y_pred=randomLabel)"
   ]
  },
  {
   "cell_type": "code",
   "execution_count": 28,
   "metadata": {},
   "outputs": [
    {
     "name": "stdout",
     "output_type": "stream",
     "text": [
      "f1_score is 0.43663739021329984\n",
      "accuracy_score is 0.49607182940516276\n"
     ]
    }
   ],
   "source": [
    "print(f'f1_score is {f1ScoreRandom}')\n",
    "print(f'accuracy_score is {accuracyScoreRandom}')"
   ]
  },
  {
   "cell_type": "code",
   "execution_count": null,
   "metadata": {},
   "outputs": [],
   "source": []
  }
 ],
 "metadata": {
  "kernelspec": {
   "display_name": "Python 3",
   "language": "python",
   "name": "python3"
  },
  "language_info": {
   "codemirror_mode": {
    "name": "ipython",
    "version": 3
   },
   "file_extension": ".py",
   "mimetype": "text/x-python",
   "name": "python",
   "nbconvert_exporter": "python",
   "pygments_lexer": "ipython3",
   "version": "3.7.1"
  }
 },
 "nbformat": 4,
 "nbformat_minor": 2
}
